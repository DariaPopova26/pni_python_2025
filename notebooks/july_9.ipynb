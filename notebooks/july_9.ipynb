{
 "cells": [
  {
   "cell_type": "markdown",
   "id": "b74acdd2",
   "metadata": {},
   "source": [
    "# Advanced Python: Regressions\n"
   ]
  },
  {
   "cell_type": "markdown",
   "id": "8a4b9b25",
   "metadata": {},
   "source": [
    "### Irises and linear regression\n",
    "\n",
    "<center>\n",
    "<img src=\"../pictures/irises_vg.jpg\" style=\"width:372px;height:284px;\">\n",
    "<br>\n",
    "<i>Irises (1889, Vincent van Gogh)</i>\n",
    "</center>\n",
    "\n",
    "Regression (known otherwise as line/curve-fitting) is a powerful and one of the easiest tools you can apply to your dataset. The general goal of regression is to find some appropiate function $f$ that predicts the value of one or more continuous variables $y$ given the value of some $k$-dimensional input variables vector $x$. The simplest form of $f$ is a linear function, which is the focus of this notebook.\n",
    "\n",
    "Some other useful packages to practice: `pandas`, `seaborn`\n",
    "\n",
    "Reference:\n",
    "1. [Linear Regression using Iris Dataset — 'Hello, World!' of Machine Learning](https://medium.com/analytics-vidhya/linear-regression-using-iris-dataset-hello-world-of-machine-learning-b0feecac9cc1)\n",
    "2. Pattern Recognition and Machine Learning, Chapter 4: Linear Models for Regression (Bishop, 2006)\n",
    "3. [The Iris Dataset](https://scikit-learn.org/1.4/auto_examples/datasets/plot_iris_dataset.html)"
   ]
  },
  {
   "cell_type": "code",
   "execution_count": null,
   "id": "b20afcc0",
   "metadata": {},
   "outputs": [],
   "source": [
    "# import packages\n",
    "import pandas as pd"
   ]
  },
  {
   "cell_type": "code",
   "execution_count": 2,
   "id": "ea6184bf",
   "metadata": {},
   "outputs": [],
   "source": [
    "# import dataset from sklearn\n",
    "from sklearn.datasets import load_iris\n",
    "iris = load_iris()\n",
    "\n",
    "# create a dataframe using pandas\n",
    "iris_df = pd.DataFrame(data=iris.data, columns=iris.feature_names)\n",
    "iris_df['species'] = iris.target\n",
    "species_names = iris.target_names"
   ]
  },
  {
   "cell_type": "markdown",
   "id": "3260695f",
   "metadata": {},
   "source": [
    "### Warmup exercises:\n",
    "1. What features of the irises are included in the dataset? How do you find out?\n",
    "   1. What are the mean, min, median, max and quantiles of the features? `pandas` has a built-in method to take care of all these.\n",
    "2. What is in the \"species\" column? \n",
    "   > *Hint*: you can find out the answer by calling .unique() on the \"species\" column of the DataFrame. \n",
    "\n",
    "   > *Hint*: The numbers in the \"species\" column are actually the indices of the species in the `species_names` array.\n",
    "   1. Substitue the species column with actual species names.\n",
    "3. What's the sepal length of the 10th sample in the dataset?\n",
    "4. What's the largest sepal width in the dataset? Which sample does it belong to?"
   ]
  },
  {
   "cell_type": "code",
   "execution_count": null,
   "id": "4f59a8ca",
   "metadata": {},
   "outputs": [],
   "source": [
    "# your code here"
   ]
  },
  {
   "cell_type": "markdown",
   "id": "c220589c",
   "metadata": {},
   "source": [
    "### Exercises 1:\n",
    "1. Recreate the following visualization:\n",
    "<center>\n",
    "<img src=\"../pictures/sepalLength_sepalWidth.png\" style=\"width:500px;height:400px;\">\n",
    "<br>\n",
    "<i>Fig 1: Sepal Length vs Sepal Width</i>\n",
    "</center>\n",
    "\n",
    "> *Hint*: Use `plt.scatter` (or seaborn's `scatterplot`). Doesn't really matter what colors you use, but show the distribution of Sepal length vs. sepal width and add an appropriate legend."
   ]
  },
  {
   "cell_type": "code",
   "execution_count": null,
   "id": "1e89837f",
   "metadata": {},
   "outputs": [],
   "source": [
    "# your code here"
   ]
  },
  {
   "cell_type": "markdown",
   "id": "5adefce6",
   "metadata": {},
   "source": [
    "### Exercises 2:\n",
    "Using `sns.pairplot` (`sns` == `seaborn`), you can visualize the pairwise relationships in the dataset. Call `pairplot` on the iris dataset and use `species` as `hue`.\n",
    "\n",
    "1. Are all the plots useful? Are there any redundant plots?\n",
    "2. Suppose we want to **predict** the value of one feature based on another. Which pairs of features would you choose and why?"
   ]
  },
  {
   "cell_type": "code",
   "execution_count": null,
   "id": "6b958e50",
   "metadata": {},
   "outputs": [],
   "source": [
    "# your code here"
   ]
  },
  {
   "cell_type": "markdown",
   "id": "9a313518",
   "metadata": {},
   "source": [
    "### Exercises 3: Linear regression\n",
    "Of course, we can use regression/a linear function predict the value of one feature based on another (it's just sometimes the predictions doesn't work very well/make sense--e.g. predicting shark attack at beaches based on ice cream sales). Here, we will use \"petal length\" to predict \"petal width\".\n",
    "\n",
    "> We can use linear regression to predict values; conversely, we can also prove/show that two features are correlated by showing linear regression works well on them.\n",
    "\n",
    "1. `sklearn` (i.e. `scikit-learn`) has a built-in linear regression model. Use it to predict the petal width based on the petal length.\n",
    "2. What's the coefficient and intercept of the linear function?\n",
    "3. Plot the predicted values against the actual values. Does the linear function fit well?\n",
    "4. What's a quantitative measure of how well the linear function fits? **Actually, how did we get this line in the first place?**"
   ]
  },
  {
   "cell_type": "code",
   "execution_count": null,
   "id": "6c1ba4f3",
   "metadata": {},
   "outputs": [],
   "source": [
    "# your code here"
   ]
  },
  {
   "cell_type": "markdown",
   "id": "3c3a005b",
   "metadata": {},
   "source": [
    "### How can regressions be used in neuroscience/psychology?"
   ]
  }
 ],
 "metadata": {
  "kernelspec": {
   "display_name": "pni_python",
   "language": "python",
   "name": "python3"
  },
  "language_info": {
   "codemirror_mode": {
    "name": "ipython",
    "version": 3
   },
   "file_extension": ".py",
   "mimetype": "text/x-python",
   "name": "python",
   "nbconvert_exporter": "python",
   "pygments_lexer": "ipython3",
   "version": "3.13.4"
  }
 },
 "nbformat": 4,
 "nbformat_minor": 5
}
