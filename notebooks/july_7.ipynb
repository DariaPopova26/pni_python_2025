{
 "cells": [
  {
   "cell_type": "markdown",
   "id": "18541241",
   "metadata": {},
   "source": [
    "# Advanced python: Data basics \n",
    "\n",
    "Author: Jiayi Zhang (jz6521)\n"
   ]
  },
  {
   "cell_type": "markdown",
   "id": "0dc78514",
   "metadata": {},
   "source": [
    "In the following notebook, we will practice loading data from folder (using `numpy`, though you will be able to find ways to read all kinds of files on the internet). We will make sense of the fields/items of the dataset and do some basic visualizations.\n",
    "\n",
    "The example data is adapted from a published dataset by [Daie et al. 2021](https://doi.org/10.1038/s41593-020-00776-3)-session 74. Data were obtained from 2-photon imaging of the (left) Anterolateral Motor cortex (ALM) using GCaM6s indicators.\n",
    "\n",
    "**Key points of practice/pay attention to**\n",
    "1. importing packages\n",
    "2. path, file I/O\n",
    "3. accessing dictionaries\n",
    "4. for-loop\n",
    "5. function definition\n",
    "6. `numpy` operations: averaging, etc.\n",
    "7. `matplotlib` basics: plotting, creating legend, etc."
   ]
  },
  {
   "cell_type": "code",
   "execution_count": 1,
   "id": "ef891ef8",
   "metadata": {},
   "outputs": [],
   "source": [
    "# import packages\n",
    "import numpy as np # math/numerical\n",
    "import matplotlib.pyplot as plt # plotting"
   ]
  },
  {
   "cell_type": "code",
   "execution_count": 3,
   "id": "be0958fd",
   "metadata": {},
   "outputs": [],
   "source": [
    "# specify the path to the data file\n",
    "# Note: this is a relative path\n",
    "data_path = \"../datasets/neuron.npz\"\n",
    "\n",
    "# load data: read data in with numpy and cast it into a dictionary\n",
    "data = dict(np.load(data_path, allow_pickle=True))"
   ]
  },
  {
   "cell_type": "markdown",
   "id": "707ef7b2",
   "metadata": {},
   "source": [
    "### Exercises 1: What's in the dataset?\n",
    "1. Print out keys and reference the `data specification` document as needed.\n",
    "    > *Hint* You can now access the data file as a dictionary \n",
    "2. What is the sampling rate of this data? (What even is a *sampling rate*?)\n",
    "3. With *1 line of code*, for the neural activity array (`y`)\n",
    "   1. How many trials are recorded?\n",
    "   2. How many time points are recorded (for a single trial)?\n",
    "   > What is an \"axis\" for a numpy array? Why is this notion important?\n",
    "4. With *1 line of code*, how long (in seconds) is a trial?\n",
    "5. How many types of trials are there? What are they? How many trials in total?"
   ]
  },
  {
   "cell_type": "code",
   "execution_count": null,
   "id": "2a0fe675",
   "metadata": {},
   "outputs": [],
   "source": [
    "# put your code here"
   ]
  },
  {
   "cell_type": "markdown",
   "id": "d15787e6",
   "metadata": {},
   "source": [
    "## Exercises 2: Visualizing neuron activity\n",
    "1. In *plot 0*, visualize the activity of neuron 0 on the 8th, 50th, 104th, 153th trials (0-indexing). Plot them with different colors and create a legend.\n",
    "   > Hint: You can even write a little function that plots a trial of activity so that your notebook will be tidy (and short). \n",
    "2. In *plot 1* (new plot), visualize the average activity of neuron 0 across all trials.\n",
    "3. In *plot 1*, show where the important time points are in the trial. What do you think this neuron is selective for? (Guess/intuition)\n",
    "4. In *plot 2*, similar to *plot 1* but now visualize the average activity of neuron 0 across right and left, separately (2 lines), and create a proper legend. \n",
    "5. Extra problem: What are the pros and cons of taking an average?\n",
    "   \n",
    "*Note*: you can put \"neural activity\" as y-axis label and \"time\" as x-axis label.\n",
    "Bonus if you can change the x-axis from time point into seconds. "
   ]
  },
  {
   "cell_type": "code",
   "execution_count": null,
   "id": "483d7e15",
   "metadata": {},
   "outputs": [],
   "source": [
    "# put your code here for plot 0"
   ]
  },
  {
   "cell_type": "code",
   "execution_count": null,
   "id": "9b6d84de",
   "metadata": {},
   "outputs": [],
   "source": [
    "# put your code here for plot 1"
   ]
  },
  {
   "cell_type": "code",
   "execution_count": null,
   "id": "3623e9c4",
   "metadata": {},
   "outputs": [],
   "source": [
    "# put your code here for plot 2"
   ]
  },
  {
   "cell_type": "markdown",
   "id": "b5f14ed4",
   "metadata": {},
   "source": [
    "### Excises 3: A (slightly) bigger dataset\n",
    "Now load a slightly bigger data file at `../datasets/many_neurons.npz`. \n",
    "\n",
    "1. With *1 line of code*, for the neural activity array (`y`)\n",
    "   1. How many neurons are recorded (in this file)?\n",
    "   2. How many time points are recorded?\n",
    "\n",
    "> If previously we can call `y` a matrix, with trial and time as it's rows and columns, what is `y` now (now that it has 3 axes)?\n",
    "\n",
    "2. How do you\n",
    "   1. get the activity of neuron 0 on trial 2?\n",
    "   2. get the activity of neurons 4, 5, 10 on trial 3?\n",
    "   3. get the activity of neuron 3, 5 on the first 10 time points of trial 4?"
   ]
  },
  {
   "cell_type": "code",
   "execution_count": null,
   "id": "838e2821",
   "metadata": {},
   "outputs": [],
   "source": [
    "# read in the new file\n"
   ]
  },
  {
   "cell_type": "markdown",
   "id": "50457392",
   "metadata": {},
   "source": [
    "### Challenge Exercise\n",
    "Recreate the plot you made in **Exercises 2.3** (average activity for correct and incorrect trials) for each of the neurons in the file. Save them with [`savefig` function](https://matplotlib.org/stable/api/_as_gen/matplotlib.pyplot.savefig.html). \n",
    ">*Hint* loop over `y` to create one plot at a time.\n",
    "\n",
    "When you are done with plotting:\n",
    "1. Are these neurons different? In what sense?\n",
    "2. Suppose we create a plot, showing the neural activity in a trial averaged across all the neurons, what would this plot tell you? Do we want this plot? Why or why not?"
   ]
  },
  {
   "cell_type": "code",
   "execution_count": null,
   "id": "d9c8b329",
   "metadata": {},
   "outputs": [],
   "source": [
    "# put your code here"
   ]
  }
 ],
 "metadata": {
  "kernelspec": {
   "display_name": "pni_python",
   "language": "python",
   "name": "python3"
  },
  "language_info": {
   "codemirror_mode": {
    "name": "ipython",
    "version": 3
   },
   "file_extension": ".py",
   "mimetype": "text/x-python",
   "name": "python",
   "nbconvert_exporter": "python",
   "pygments_lexer": "ipython3",
   "version": "3.13.4"
  }
 },
 "nbformat": 4,
 "nbformat_minor": 5
}
